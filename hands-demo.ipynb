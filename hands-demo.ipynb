{
 "cells": [
  {
   "cell_type": "code",
   "execution_count": 1,
   "metadata": {},
   "outputs": [],
   "source": [
    "import numpy as np\n",
    "import mediapipe as mp\n",
    "import cv2\n",
    "import matplotlib.pyplot as plt\n",
    "from mediapipe.python.solutions.drawing_utils import _normalized_to_pixel_coordinates\n"
   ]
  },
  {
   "cell_type": "code",
   "execution_count": 2,
   "metadata": {},
   "outputs": [],
   "source": [
    "\n",
    "mp_drawing = mp.solutions.drawing_utils\n",
    "mp_drawing_styles = mp.solutions.drawing_styles\n",
    "mp_hands = mp.solutions.hands\n",
    "mp_pose = mp.solutions.pose"
   ]
  },
  {
   "cell_type": "code",
   "execution_count": 9,
   "metadata": {},
   "outputs": [],
   "source": [
    "\n",
    "\n",
    "\n",
    "####BODY POSE ESTIMATION \n",
    "\n",
    "# image = cv2.imread(\"/home/bundy/Pictures/Webcam/hand.jpg\") \n",
    "# with mp_hands.Hands(\n",
    "#     static_image_mode=True,\n",
    "#     max_num_hands = 2,\n",
    "#     min_detection_confidence=0.5\n",
    "# ) as hands:\n",
    "#     results = hands.process(cv2.cvtColor(image,cv2.COLOR_BGR2RGB))\n",
    "#     if results.multi_hand_landmarks:\n",
    "#         print((results.multi_hand_landmarks[0]))\n",
    "\n",
    "\n",
    "\n",
    "\n",
    "pose_image = cv2.imread(\"/home/bundy/Pictures/Webcam/bodypose.jpg\") \n",
    "# load image using cv2....and do processing.\n",
    "# as opencv loads in BGR format by default, we want to show it in RGB.\n",
    "\n",
    "def get_hands(pose_image):\n",
    "    with mp_pose.Pose(\n",
    "        static_image_mode=True,\n",
    "        model_complexity=2,\n",
    "        enable_segmentation=True,\n",
    "        min_detection_confidence=0.5,\n",
    "        min_tracking_confidence=0.5,\n",
    "    ) as pose:\n",
    "        handmarks = [21,19,15,17]\n",
    "        max_x = 0\n",
    "        max_y = 0\n",
    "        min_x = 1000\n",
    "        min_y = 1000\n",
    "\n",
    "        pose_image = cv2.flip(pose_image,1)\n",
    "        results = pose.process(cv2.cvtColor(pose_image,cv2.COLOR_BGR2RGB))\n",
    "        if results.pose_landmarks:\n",
    "            pass\n",
    "            # mp_drawing.draw_landmarks(\n",
    "            #     pose_image,\n",
    "            #     results.pose_landmarks,\n",
    "            #     mp_pose.POSE_CONNECTIONS,\n",
    "            #     landmark_drawing_spec=mp_drawing_styles.get_default_pose_landmarks_style(),\n",
    "            # )\n",
    "            for index in handmarks:\n",
    "                landmark = results.pose_landmarks.landmark[index]\n",
    "                if landmark.x < min_x:\n",
    "                    min_x = landmark.x\n",
    "                elif landmark.x > max_x:\n",
    "                    max_x = landmark.x\n",
    "                if landmark.y < min_y:\n",
    "                    min_y = landmark.y\n",
    "                elif landmark.y > max_y:\n",
    "                    max_y = landmark.y\n",
    "\n",
    "            min_x  = int(min_x * pose_image.shape[1] / 1.2)\n",
    "            max_x  = int(max_x * pose_image.shape[1] * 1.2) \n",
    "            min_y  = int(min_y * pose_image.shape[0] / 1.2) \n",
    "            max_y  = int(max_y * pose_image.shape[0] * 1.2) \n",
    "            cv2.rectangle(pose_image, (min_x,min_y), (max_x,max_y), (0, 255, 0), 2)\n",
    "            pose_image = cv2.cvtColor(pose_image, cv2.COLOR_BGR2RGB)\n",
    "            # pose_image = pose_image[min_y:max_y,min_x:max_x]\n",
    "\n",
    "\n",
    "    with mp_hands.Hands(\n",
    "        static_image_mode=True,\n",
    "        max_num_hands = 2,\n",
    "        min_detection_confidence=0.5\n",
    "    ) as hands:\n",
    "        results = hands.process(pose_image)\n",
    "        if results.multi_hand_landmarks:\n",
    "            for hand_landmarks in results.multi_hand_landmarks:\n",
    "                mp_drawing.draw_landmarks(\n",
    "                pose_image,\n",
    "                hand_landmarks,\n",
    "                mp_hands.HAND_CONNECTIONS,\n",
    "                mp_drawing_styles.get_default_hand_landmarks_style(),\n",
    "                mp_drawing_styles.get_default_hand_connections_style()\n",
    "                )\n",
    "\n",
    "\n"
   ]
  },
  {
   "cell_type": "code",
   "execution_count": null,
   "metadata": {},
   "outputs": [],
   "source": []
  },
  {
   "cell_type": "code",
   "execution_count": 10,
   "metadata": {},
   "outputs": [
    {
     "ename": "KeyboardInterrupt",
     "evalue": "",
     "output_type": "error",
     "traceback": [
      "\u001b[0;31m---------------------------------------------------------------------------\u001b[0m",
      "\u001b[0;31mKeyboardInterrupt\u001b[0m                         Traceback (most recent call last)",
      "Cell \u001b[0;32mIn[10], line 16\u001b[0m\n\u001b[1;32m     13\u001b[0m \u001b[39melse\u001b[39;00m:\n\u001b[1;32m     14\u001b[0m     \u001b[39m#pass by reference to boost performance\u001b[39;00m\n\u001b[1;32m     15\u001b[0m     image\u001b[39m.\u001b[39mflags\u001b[39m.\u001b[39mwriteable \u001b[39m=\u001b[39m \u001b[39mTrue\u001b[39;00m\n\u001b[0;32m---> 16\u001b[0m     results \u001b[39m=\u001b[39m hands\u001b[39m.\u001b[39;49mprocess(cv2\u001b[39m.\u001b[39;49mcvtColor(image,cv2\u001b[39m.\u001b[39;49mCOLOR_BGR2RGB))\n\u001b[1;32m     17\u001b[0m     \u001b[39mif\u001b[39;00m results\u001b[39m.\u001b[39mmulti_hand_landmarks:\n\u001b[1;32m     18\u001b[0m         \u001b[39mfor\u001b[39;00m hand_landmarks \u001b[39min\u001b[39;00m results\u001b[39m.\u001b[39mmulti_hand_landmarks:\n",
      "File \u001b[0;32m~/.cache/pypoetry/virtualenvs/handgestures-wrNuWtAM-py3.9/lib64/python3.9/site-packages/mediapipe/python/solutions/hands.py:153\u001b[0m, in \u001b[0;36mHands.process\u001b[0;34m(self, image)\u001b[0m\n\u001b[1;32m    132\u001b[0m \u001b[39mdef\u001b[39;00m \u001b[39mprocess\u001b[39m(\u001b[39mself\u001b[39m, image: np\u001b[39m.\u001b[39mndarray) \u001b[39m-\u001b[39m\u001b[39m>\u001b[39m NamedTuple:\n\u001b[1;32m    133\u001b[0m \u001b[39m  \u001b[39m\u001b[39m\"\"\"Processes an RGB image and returns the hand landmarks and handedness of each detected hand.\u001b[39;00m\n\u001b[1;32m    134\u001b[0m \n\u001b[1;32m    135\u001b[0m \u001b[39m  Args:\u001b[39;00m\n\u001b[0;32m   (...)\u001b[0m\n\u001b[1;32m    150\u001b[0m \u001b[39m         right hand) of the detected hand.\u001b[39;00m\n\u001b[1;32m    151\u001b[0m \u001b[39m  \"\"\"\u001b[39;00m\n\u001b[0;32m--> 153\u001b[0m   \u001b[39mreturn\u001b[39;00m \u001b[39msuper\u001b[39;49m()\u001b[39m.\u001b[39;49mprocess(input_data\u001b[39m=\u001b[39;49m{\u001b[39m'\u001b[39;49m\u001b[39mimage\u001b[39;49m\u001b[39m'\u001b[39;49m: image})\n",
      "File \u001b[0;32m~/.cache/pypoetry/virtualenvs/handgestures-wrNuWtAM-py3.9/lib64/python3.9/site-packages/mediapipe/python/solution_base.py:365\u001b[0m, in \u001b[0;36mSolutionBase.process\u001b[0;34m(self, input_data)\u001b[0m\n\u001b[1;32m    359\u001b[0m   \u001b[39melse\u001b[39;00m:\n\u001b[1;32m    360\u001b[0m     \u001b[39mself\u001b[39m\u001b[39m.\u001b[39m_graph\u001b[39m.\u001b[39madd_packet_to_input_stream(\n\u001b[1;32m    361\u001b[0m         stream\u001b[39m=\u001b[39mstream_name,\n\u001b[1;32m    362\u001b[0m         packet\u001b[39m=\u001b[39m\u001b[39mself\u001b[39m\u001b[39m.\u001b[39m_make_packet(input_stream_type,\n\u001b[1;32m    363\u001b[0m                                  data)\u001b[39m.\u001b[39mat(\u001b[39mself\u001b[39m\u001b[39m.\u001b[39m_simulated_timestamp))\n\u001b[0;32m--> 365\u001b[0m \u001b[39mself\u001b[39;49m\u001b[39m.\u001b[39;49m_graph\u001b[39m.\u001b[39;49mwait_until_idle()\n\u001b[1;32m    366\u001b[0m \u001b[39m# Create a NamedTuple object where the field names are mapping to the graph\u001b[39;00m\n\u001b[1;32m    367\u001b[0m \u001b[39m# output stream names.\u001b[39;00m\n\u001b[1;32m    368\u001b[0m solution_outputs \u001b[39m=\u001b[39m collections\u001b[39m.\u001b[39mnamedtuple(\n\u001b[1;32m    369\u001b[0m     \u001b[39m'\u001b[39m\u001b[39mSolutionOutputs\u001b[39m\u001b[39m'\u001b[39m, \u001b[39mself\u001b[39m\u001b[39m.\u001b[39m_output_stream_type_info\u001b[39m.\u001b[39mkeys())\n",
      "\u001b[0;31mKeyboardInterrupt\u001b[0m: "
     ]
    }
   ],
   "source": [
    "\n",
    "\n",
    "#capture videofeed\n",
    "\n",
    "cap = cv2.VideoCapture(0)\n",
    "with mp_hands.Hands(\n",
    "    static_image_mode=True,\n",
    "    max_num_hands = 2,\n",
    "    min_detection_confidence=0.5\n",
    ") as hands:\n",
    "    while cap.isOpened():\n",
    "        success,image = cap.read()\n",
    "        if not success:\n",
    "            print(\"skip empty camera frame\")\n",
    "        else:\n",
    "            #pass by reference to boost performance\n",
    "            image.flags.writeable = True\n",
    "            results = hands.process(cv2.cvtColor(image,cv2.COLOR_BGR2RGB))\n",
    "            if results.multi_hand_landmarks:\n",
    "                for hand_landmarks in results.multi_hand_landmarks:\n",
    "                    mp_drawing.draw_landmarks(\n",
    "                    image,\n",
    "                    hand_landmarks,\n",
    "                    mp_hands.HAND_CONNECTIONS,\n",
    "                    mp_drawing_styles.get_default_hand_landmarks_style(),\n",
    "                    mp_drawing_styles.get_default_hand_connections_style()\n",
    "                    )\n",
    "            \n",
    "            cv2.imshow('Mediapipe Hands', cv2.flip(image,1))\n",
    "            #wait for kill signal \n",
    "            if cv2.waitKey(5) and 0xFF == 27:\n",
    "                cv2.destroyAllWindows()\n",
    "                break\n",
    "\n",
    "cap.release()\n"
   ]
  },
  {
   "cell_type": "code",
   "execution_count": 12,
   "metadata": {},
   "outputs": [
    {
     "ename": "AttributeError",
     "evalue": "'NoneType' object has no attribute 'landmark'",
     "output_type": "error",
     "traceback": [
      "\u001b[0;31m---------------------------------------------------------------------------\u001b[0m",
      "\u001b[0;31mAttributeError\u001b[0m                            Traceback (most recent call last)",
      "Cell \u001b[0;32mIn[12], line 16\u001b[0m\n\u001b[1;32m     13\u001b[0m \u001b[39melse\u001b[39;00m:\n\u001b[1;32m     14\u001b[0m     \u001b[39m#pass by reference to boost performance\u001b[39;00m\n\u001b[1;32m     15\u001b[0m     image\u001b[39m.\u001b[39mflags\u001b[39m.\u001b[39mwriteable \u001b[39m=\u001b[39m \u001b[39mTrue\u001b[39;00m\n\u001b[0;32m---> 16\u001b[0m     get_hands(image)\n\u001b[1;32m     17\u001b[0m     results \u001b[39m=\u001b[39m pose\u001b[39m.\u001b[39mprocess(cv2\u001b[39m.\u001b[39mcvtColor(image,cv2\u001b[39m.\u001b[39mCOLOR_BGR2RGB))\n\u001b[1;32m     18\u001b[0m     \u001b[39mif\u001b[39;00m results\u001b[39m.\u001b[39mpose_landmarks:\n",
      "Cell \u001b[0;32mIn[9], line 45\u001b[0m, in \u001b[0;36mget_hands\u001b[0;34m(pose_image)\u001b[0m\n\u001b[1;32m     38\u001b[0m     \u001b[39m# mp_drawing.draw_landmarks(\u001b[39;00m\n\u001b[1;32m     39\u001b[0m     \u001b[39m#     pose_image,\u001b[39;00m\n\u001b[1;32m     40\u001b[0m     \u001b[39m#     results.pose_landmarks,\u001b[39;00m\n\u001b[1;32m     41\u001b[0m     \u001b[39m#     mp_pose.POSE_CONNECTIONS,\u001b[39;00m\n\u001b[1;32m     42\u001b[0m     \u001b[39m#     landmark_drawing_spec=mp_drawing_styles.get_default_pose_landmarks_style(),\u001b[39;00m\n\u001b[1;32m     43\u001b[0m     \u001b[39m# )\u001b[39;00m\n\u001b[1;32m     44\u001b[0m \u001b[39mfor\u001b[39;00m index \u001b[39min\u001b[39;00m handmarks:\n\u001b[0;32m---> 45\u001b[0m     landmark \u001b[39m=\u001b[39m results\u001b[39m.\u001b[39;49mpose_landmarks\u001b[39m.\u001b[39;49mlandmark[index]\n\u001b[1;32m     46\u001b[0m     \u001b[39mif\u001b[39;00m landmark\u001b[39m.\u001b[39mx \u001b[39m<\u001b[39m min_x:\n\u001b[1;32m     47\u001b[0m         min_x \u001b[39m=\u001b[39m landmark\u001b[39m.\u001b[39mx\n",
      "\u001b[0;31mAttributeError\u001b[0m: 'NoneType' object has no attribute 'landmark'"
     ]
    }
   ],
   "source": [
    "\n",
    "cap = cv2.VideoCapture(0)\n",
    "with mp_pose.Pose(\n",
    "    static_image_mode=True,\n",
    "    model_complexity=2,\n",
    "    enable_segmentation=True,\n",
    "    min_detection_confidence=0.5,\n",
    "    min_tracking_confidence=0.5,\n",
    ") as pose:\n",
    "    while cap.isOpened():\n",
    "        success,image = cap.read()\n",
    "        if not success:\n",
    "            print(\"skip empty camera frame\")\n",
    "        else:\n",
    "            #pass by reference to boost performance\n",
    "            image.flags.writeable = True\n",
    "            get_hands(image)\n",
    "            results = pose.process(cv2.cvtColor(image,cv2.COLOR_BGR2RGB))\n",
    "            if results.pose_landmarks:\n",
    "                mp_drawing.draw_landmarks(\n",
    "                    image,\n",
    "                    results.pose_landmarks,\n",
    "                    mp_pose.POSE_CONNECTIONS,\n",
    "                    landmark_drawing_spec=mp_drawing_styles.get_default_pose_landmarks_style(),\n",
    "                )\n",
    "\n",
    "\n",
    "            cv2.imshow('Mediapipe Hands', cv2.flip(image,1))\n",
    "            #wait for kill signal \n",
    "            if cv2.waitKey(5) and 0xFF == 27:\n",
    "                cv2.destroyAllWindows()\n",
    "                break\n",
    "\n",
    "cap.release()\n"
   ]
  },
  {
   "cell_type": "code",
   "execution_count": null,
   "metadata": {},
   "outputs": [],
   "source": []
  },
  {
   "cell_type": "code",
   "execution_count": 9,
   "metadata": {},
   "outputs": [],
   "source": [
    "#setup mediapipe\n",
    "BaseOptions = mp.tasks.BaseOptions\n",
    "HandLandmarker = mp.tasks.vision.HandLandmarker\n",
    "HandLandmarkerOptions = mp.tasks.vision.HandLandmarkerOptions\n",
    "VisionRunningMode = mp.tasks.vision.RunningMode\n",
    "\n",
    "\n",
    "\n",
    "options = HandLandmarkerOptions(\n",
    "    base_options = BaseOptions(model_asset_path=\"./hand_landmarker.task\"),\n",
    "    running_mode = VisionRunningMode.IMAGE\n",
    ")\n",
    "\n"
   ]
  },
  {
   "cell_type": "code",
   "execution_count": 14,
   "metadata": {},
   "outputs": [],
   "source": [
    "mp_image = mp.Image(image_format=mp.ImageFormat.SRGB,data=image)"
   ]
  },
  {
   "cell_type": "code",
   "execution_count": null,
   "metadata": {},
   "outputs": [],
   "source": []
  },
  {
   "cell_type": "code",
   "execution_count": 21,
   "metadata": {},
   "outputs": [
    {
     "name": "stdout",
     "output_type": "stream",
     "text": [
      "HandLandmarkerResult(handedness=[], hand_landmarks=[], hand_world_landmarks=[])\n"
     ]
    }
   ],
   "source": [
    "with HandLandmarker.create_from_options(options) as landmarker:\n",
    "    landmarker_result = landmarker.detect(mp_image)\n",
    "    print(landmarker_result)"
   ]
  }
 ],
 "metadata": {
  "kernelspec": {
   "display_name": "HandGestures-Da4ra6Os",
   "language": "python",
   "name": "python3"
  },
  "language_info": {
   "codemirror_mode": {
    "name": "ipython",
    "version": 3
   },
   "file_extension": ".py",
   "mimetype": "text/x-python",
   "name": "python",
   "nbconvert_exporter": "python",
   "pygments_lexer": "ipython3",
   "version": "3.9.16"
  },
  "orig_nbformat": 4
 },
 "nbformat": 4,
 "nbformat_minor": 2
}
